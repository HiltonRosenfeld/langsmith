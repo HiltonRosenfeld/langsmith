{
 "cells": [
  {
   "cell_type": "code",
   "execution_count": 2,
   "metadata": {},
   "outputs": [],
   "source": [
    "import os\n",
    "from dotenv import load_dotenv\n",
    "from astrapy.db import AstraDB\n",
    "\n",
    "load_dotenv()\n",
    "\n",
    "# Initialization\n",
    "db = AstraDB(\n",
    "  token=os.environ[\"ASTRA_DB_APPLICATION_TOKEN\"],\n",
    "  api_endpoint=os.environ[\"ASTRA_DB_API_ENDPOINT\"],\n",
    ")\n",
    "\n",
    "# Create collection\n",
    "col = db.create_collection(\"vector_test\", dimension=5)"
   ]
  },
  {
   "cell_type": "code",
   "execution_count": null,
   "metadata": {},
   "outputs": [],
   "source": [
    "# Load Vector Embeddings\n",
    "\n",
    "documents = [\n",
    "        {\n",
    "            \"_id\": \"1\",\n",
    "            \"text\": \"ChatGPT integrated sneakers that talk to you\",\n",
    "            \"$vector\": [0.1, 0.15, 0.3, 0.12, 0.05],\n",
    "        },\n",
    "        {\n",
    "            \"_id\": \"2\",\n",
    "            \"text\": \"An AI quilt to help you sleep forever\",\n",
    "            \"$vector\": [0.45, 0.09, 0.01, 0.2, 0.11],\n",
    "        },\n",
    "        {\n",
    "            \"_id\": \"3\",\n",
    "            \"text\": \"Vision Vector Frame - A deep learning display that controls your mood\",\n",
    "            \"$vector\": [0.1, 0.05, 0.08, 0.3, 0.6],\n",
    "        },\n",
    "    ]\n",
    "res = col.insert_many(documents)"
   ]
  },
  {
   "cell_type": "code",
   "execution_count": null,
   "metadata": {},
   "outputs": [],
   "source": [
    "# Similarity Search\n",
    "\n",
    "query = [0.15, 0.1, 0.1, 0.35, 0.55]\n",
    "results = col.vector_find(query, limit=2, fields={\"text\", \"$vector\"})\n",
    "for document in results:\n",
    "    print(document)"
   ]
  },
  {
   "cell_type": "code",
   "execution_count": null,
   "metadata": {},
   "outputs": [],
   "source": []
  }
 ],
 "metadata": {
  "kernelspec": {
   "display_name": "env_vector",
   "language": "python",
   "name": "python3"
  },
  "language_info": {
   "codemirror_mode": {
    "name": "ipython",
    "version": 3
   },
   "file_extension": ".py",
   "mimetype": "text/x-python",
   "name": "python",
   "nbconvert_exporter": "python",
   "pygments_lexer": "ipython3",
   "version": "3.9.18"
  }
 },
 "nbformat": 4,
 "nbformat_minor": 2
}
